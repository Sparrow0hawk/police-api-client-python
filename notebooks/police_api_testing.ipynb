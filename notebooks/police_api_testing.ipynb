{
  "nbformat": 4,
  "nbformat_minor": 0,
  "metadata": {
    "colab": {
      "name": "police_api_testing.ipynb",
      "provenance": [],
      "toc_visible": true,
      "authorship_tag": "ABX9TyPlmfKxPDXhWV+r7g4+AP07",
      "include_colab_link": true
    },
    "kernelspec": {
      "name": "python3",
      "display_name": "Python 3"
    }
  },
  "cells": [
    {
      "cell_type": "markdown",
      "metadata": {
        "id": "view-in-github",
        "colab_type": "text"
      },
      "source": [
        "<a href=\"https://colab.research.google.com/github/Sparrow0hawk/police-api-client-python/blob/develop/notebooks/police_api_testing.ipynb\" target=\"_parent\"><img src=\"https://colab.research.google.com/assets/colab-badge.svg\" alt=\"Open In Colab\"/></a>"
      ]
    },
    {
      "cell_type": "markdown",
      "metadata": {
        "id": "yb4sXcPCIzA2",
        "colab_type": "text"
      },
      "source": [
        "# Testing out the police api python package\n",
        "\n",
        "Having a go at extracting crime data from the Python Police API package and getting outputs that look like the bulk data extraction available on [Custom Download section](https://data.police.uk/data/)."
      ]
    },
    {
      "cell_type": "code",
      "metadata": {
        "id": "fO2QgvvuKcOr",
        "colab_type": "code",
        "colab": {}
      },
      "source": [
        "! pip install police-api-client"
      ],
      "execution_count": null,
      "outputs": []
    },
    {
      "cell_type": "markdown",
      "metadata": {
        "id": "J26jpepiD8qq",
        "colab_type": "text"
      },
      "source": [
        "## Example data"
      ]
    },
    {
      "cell_type": "code",
      "metadata": {
        "id": "F76u3ktmSjUg",
        "colab_type": "code",
        "colab": {}
      },
      "source": [
        "# an example of the target data structure we're aiming for \n",
        "import pandas as pd\n",
        "\n",
        "print(pd.read_csv('https://raw.githubusercontent.com/Sparrow0hawk/crime_sim_toolkit/master/sample_data/2019-06/2019-06-west-yorkshire-street.csv').shape)\n",
        "\n",
        "pd.read_csv('https://raw.githubusercontent.com/Sparrow0hawk/crime_sim_toolkit/master/sample_data/2019-06/2019-06-west-yorkshire-street.csv')\\\n",
        "  .head()"
      ],
      "execution_count": null,
      "outputs": []
    },
    {
      "cell_type": "markdown",
      "metadata": {
        "id": "OtC89yGwYWw6",
        "colab_type": "text"
      },
      "source": [
        "## Exploring the API"
      ]
    },
    {
      "cell_type": "code",
      "metadata": {
        "id": "4PjFbK7OKfIQ",
        "colab_type": "code",
        "colab": {}
      },
      "source": [
        "# standard instanstiation\n",
        "from police_api import PoliceAPI\n",
        "api = PoliceAPI()"
      ],
      "execution_count": null,
      "outputs": []
    },
    {
      "cell_type": "code",
      "metadata": {
        "id": "ArfIw0EvKmUm",
        "colab_type": "code",
        "colab": {}
      },
      "source": [
        "# available dates from API\n",
        "api.get_dates()"
      ],
      "execution_count": null,
      "outputs": []
    },
    {
      "cell_type": "code",
      "metadata": {
        "id": "DqbWCM25k_By",
        "colab_type": "code",
        "colab": {}
      },
      "source": [
        "# available police forces \n",
        "# returns a list of Force objects which have their own attributes\n",
        "api.get_forces()"
      ],
      "execution_count": null,
      "outputs": []
    },
    {
      "cell_type": "code",
      "metadata": {
        "id": "UFKk9jtEYnID",
        "colab_type": "code",
        "colab": {}
      },
      "source": [
        "# Forces object attributes\n",
        "api.get_forces()[0].__dict__"
      ],
      "execution_count": null,
      "outputs": []
    },
    {
      "cell_type": "code",
      "metadata": {
        "id": "mg4D6qTubu6B",
        "colab_type": "code",
        "colab": {}
      },
      "source": [
        "print(api.get_forces()[0].description, '\\n')\n",
        "\n",
        "print(api.get_forces()[0].telephone, '\\n')\n",
        "\n",
        "print(api.get_forces()[0].engagement_methods, '\\n')\n",
        "\n",
        "print(api.get_forces()[0].url, '\\n')"
      ],
      "execution_count": null,
      "outputs": []
    },
    {
      "cell_type": "code",
      "metadata": {
        "id": "yUA4dwtQlFCX",
        "colab_type": "code",
        "colab": {}
      },
      "source": [
        "# assigning specific force object for requested force\n",
        "WY = api.get_force('west-yorkshire')"
      ],
      "execution_count": null,
      "outputs": []
    },
    {
      "cell_type": "code",
      "metadata": {
        "id": "65Cg7w0SY0TP",
        "colab_type": "code",
        "colab": {}
      },
      "source": [
        "WY.fields"
      ],
      "execution_count": null,
      "outputs": []
    },
    {
      "cell_type": "code",
      "metadata": {
        "id": "PmTQU52alLnu",
        "colab_type": "code",
        "colab": {}
      },
      "source": [
        "type(WY)"
      ],
      "execution_count": null,
      "outputs": []
    },
    {
      "cell_type": "code",
      "metadata": {
        "id": "aaDqzhieK8A7",
        "colab_type": "code",
        "colab": {}
      },
      "source": [
        "# get neighbourhoods"
      ],
      "execution_count": null,
      "outputs": []
    },
    {
      "cell_type": "code",
      "metadata": {
        "id": "DqdGyayElQYX",
        "colab_type": "code",
        "colab": {}
      },
      "source": [
        "WY.neighbourhoods"
      ],
      "execution_count": null,
      "outputs": []
    },
    {
      "cell_type": "code",
      "metadata": {
        "id": "L6aHcCH9Jt0P",
        "colab_type": "code",
        "colab": {}
      },
      "source": [
        "WY.neighbourhoods[0].__dict__"
      ],
      "execution_count": null,
      "outputs": []
    },
    {
      "cell_type": "code",
      "metadata": {
        "id": "fIaRDzULlT5W",
        "colab_type": "code",
        "colab": {}
      },
      "source": [
        "lds_cc = WY.get_neighbourhood('LDT_CITY')"
      ],
      "execution_count": null,
      "outputs": []
    },
    {
      "cell_type": "code",
      "metadata": {
        "id": "ViZQGxkGlit4",
        "colab_type": "code",
        "colab": {}
      },
      "source": [
        "lds_cc.crimes"
      ],
      "execution_count": null,
      "outputs": []
    },
    {
      "cell_type": "code",
      "metadata": {
        "id": "YJFQPYFulo6i",
        "colab_type": "code",
        "colab": {}
      },
      "source": [
        "crimes = api.get_crimes_area(lds_cc.boundary, date='2020-03')"
      ],
      "execution_count": null,
      "outputs": []
    },
    {
      "cell_type": "code",
      "metadata": {
        "id": "21Yl1d1fmQnk",
        "colab_type": "code",
        "colab": {}
      },
      "source": [
        "crimes[0].__dict__"
      ],
      "execution_count": null,
      "outputs": []
    },
    {
      "cell_type": "code",
      "metadata": {
        "id": "O12RXkD5ma6v",
        "colab_type": "code",
        "colab": {}
      },
      "source": [
        "type(crimes[0])"
      ],
      "execution_count": null,
      "outputs": []
    },
    {
      "cell_type": "code",
      "metadata": {
        "id": "A4TgwPuKoDDS",
        "colab_type": "code",
        "colab": {}
      },
      "source": [
        "crimes[0].__dict__.keys()"
      ],
      "execution_count": null,
      "outputs": []
    },
    {
      "cell_type": "code",
      "metadata": {
        "id": "v8g_jKeVMWDY",
        "colab_type": "code",
        "colab": {}
      },
      "source": [
        "WY.name"
      ],
      "execution_count": null,
      "outputs": []
    },
    {
      "cell_type": "code",
      "metadata": {
        "id": "PI7brUQVqTXm",
        "colab_type": "code",
        "colab": {}
      },
      "source": [
        "list(crimes[0].__dict__.values())"
      ],
      "execution_count": null,
      "outputs": []
    },
    {
      "cell_type": "code",
      "metadata": {
        "id": "SjHqZoS44j29",
        "colab_type": "code",
        "colab": {}
      },
      "source": [
        "crime_dict = { key: [] for key in list(crimes[0].__dict__.keys())}"
      ],
      "execution_count": null,
      "outputs": []
    },
    {
      "cell_type": "code",
      "metadata": {
        "id": "paBH81bA5hx9",
        "colab_type": "code",
        "colab": {}
      },
      "source": [
        "crimes[0].__dict__['api']"
      ],
      "execution_count": null,
      "outputs": []
    },
    {
      "cell_type": "code",
      "metadata": {
        "id": "uCY9w1ZipYQm",
        "colab_type": "code",
        "colab": {}
      },
      "source": [
        "empty_dic = dict()\n",
        "\n",
        "for crime in crimes:\n",
        "\n",
        "  new_dict = { **empty_dic, **crime.__dict__}"
      ],
      "execution_count": null,
      "outputs": []
    },
    {
      "cell_type": "markdown",
      "metadata": {
        "id": "ul653tvGEGBD",
        "colab_type": "text"
      },
      "source": [
        "## Iterating over crime objects"
      ]
    },
    {
      "cell_type": "code",
      "metadata": {
        "id": "IAfFykrEAIWJ",
        "colab_type": "code",
        "colab": {}
      },
      "source": [
        "crime_dict = { key: [] for key in list(crimes[0].__dict__.keys())}\n",
        "\n",
        "crime_dict['lon'] = []\n",
        "crime_dict['lat'] = []\n",
        "crime_dict['crime_cat'] = []\n",
        "\n",
        "for crime in crimes:\n",
        "\n",
        "  for key in list(crimes[0].__dict__.keys()):\n",
        "\n",
        "    crime_dict[key] += [crime.__dict__[key]]\n",
        "\n",
        "  # extract location lng and lat\n",
        "  crime_dict['lon'] += [crime.__dict__['location'].__dict__['longitude']]\n",
        "\n",
        "  crime_dict['lat'] += [crime.__dict__['location'].__dict__['latitude']]\n",
        "  # extract crime category\n",
        "\n",
        "  crime_dict['crime_cat'] += [crime.__dict__['category'].__dict__['name']]"
      ],
      "execution_count": null,
      "outputs": []
    },
    {
      "cell_type": "code",
      "metadata": {
        "id": "evQLUQSYAJR5",
        "colab_type": "code",
        "colab": {}
      },
      "source": [
        "import pandas as pd\n",
        "\n",
        "data = pd.DataFrame(crime_dict)\n",
        "\n",
        "data.head()"
      ],
      "execution_count": null,
      "outputs": []
    },
    {
      "cell_type": "code",
      "metadata": {
        "id": "kgnlzMiGB5Io",
        "colab_type": "code",
        "colab": {}
      },
      "source": [
        "from police_api import PoliceAPI\n",
        "import pandas as pd\n",
        "\n",
        "def policeAPI_to_pandas(police_force : str, date : str):\n",
        "  \"\"\"\n",
        "  Using the policeAPI to get data into pandas dataframe\n",
        "  \"\"\"\n",
        "  api = PoliceAPI()\n",
        "\n",
        "  pile_of_dataframes = []\n",
        "\n",
        "  # assigning specific force object for requested force\n",
        "  selected_force = api.get_force('west-yorkshire')\n",
        "\n",
        "  # get list of neighbourhoods\n",
        "  force_neighbourhoods = [obj.id for obj in selected_force.neighbourhoods]\n",
        "\n",
        "  for neighbourhood in force_neighbourhoods:\n",
        "\n",
        "    crimes = api.get_crimes_area(selected_force.get_neighbourhood(neighbourhood).boundary, \n",
        "                               date=date)\n",
        "    \n",
        "    crime_dict = { key: [] for key in list(crimes[0].__dict__.keys())}\n",
        "\n",
        "    crime_dict['lon'] = []\n",
        "    crime_dict['lat'] = []\n",
        "    crime_dict['crime_cat'] = []\n",
        "    crime_dict['neighbourhood'] = []\n",
        "\n",
        "    for crime in crimes:\n",
        "\n",
        "      for key in list(crimes[0].__dict__.keys()):\n",
        "\n",
        "        crime_dict[key] += [crime.__dict__[key]]\n",
        "\n",
        "      # extract location lng and lat\n",
        "      crime_dict['lon'] += [crime.__dict__['location'].__dict__['longitude']]\n",
        "\n",
        "      crime_dict['lat'] += [crime.__dict__['location'].__dict__['latitude']]\n",
        "      # extract crime category\n",
        "\n",
        "      crime_dict['crime_cat'] += [crime.__dict__['category'].__dict__['name']]\n",
        "\n",
        "      # add neighbourhood team name\n",
        "      crime_dict['neighbourhood'] += [neighbourhood]\n",
        "    \n",
        "    pile_of_dataframes.append(pd.DataFrame(crime_dict))\n",
        "\n",
        "  final_frame = pd.concat(pile_of_dataframes, axis=1)\n",
        "\n",
        "  final_frame['police_force'] = selected_force.name\n",
        "\n",
        "  return final_frame"
      ],
      "execution_count": null,
      "outputs": []
    },
    {
      "cell_type": "code",
      "metadata": {
        "id": "nfr8WzT_EpFm",
        "colab_type": "code",
        "colab": {}
      },
      "source": [
        "policeAPI_to_pandas(police_force='west-yorkshire', date=\"2019-06\")"
      ],
      "execution_count": null,
      "outputs": []
    },
    {
      "cell_type": "code",
      "metadata": {
        "id": "cggylvr3NRXw",
        "colab_type": "code",
        "colab": {}
      },
      "source": [
        "crime_dict"
      ],
      "execution_count": null,
      "outputs": []
    },
    {
      "cell_type": "code",
      "metadata": {
        "id": "ryvj84XaOM8h",
        "colab_type": "code",
        "colab": {}
      },
      "source": [
        ""
      ],
      "execution_count": null,
      "outputs": []
    }
  ]
}